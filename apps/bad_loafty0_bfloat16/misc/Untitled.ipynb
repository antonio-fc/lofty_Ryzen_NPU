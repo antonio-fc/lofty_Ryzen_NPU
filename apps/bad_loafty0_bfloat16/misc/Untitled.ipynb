{
 "cells": [
  {
   "cell_type": "code",
   "execution_count": 1,
   "id": "6b6366b8-3390-4260-a67d-1c1b7c41e327",
   "metadata": {},
   "outputs": [],
   "source": [
    "import numpy as np\n",
    "from ml_dtypes import bfloat16"
   ]
  },
  {
   "cell_type": "markdown",
   "id": "9f146b37-e399-44ea-b59f-261f0dfc1659",
   "metadata": {},
   "source": [
    "input values"
   ]
  },
  {
   "cell_type": "code",
   "execution_count": 2,
   "id": "ef2ef00e-2fe2-4570-9d80-cdd3646d979f",
   "metadata": {},
   "outputs": [
    {
     "name": "stdout",
     "output_type": "stream",
     "text": [
      "[0 3.14062 6.28125 4.78125 0.949219 0.746094 1.42969 3.15625 1.26562\n",
      " 5.65625 1.3125 6.1875 2.70312 2.1875 4.4375 4.96875]\n"
     ]
    }
   ],
   "source": [
    "a = (np.random.rand(16) * 2 * np.pi).astype(bfloat16)\n",
    "a[0] = 0\n",
    "a[1] = np.pi\n",
    "a[2] = 2 * np.pi\n",
    "print(a)"
   ]
  },
  {
   "cell_type": "markdown",
   "id": "bc4ff608-3ccf-44a3-bd08-cfb42262e649",
   "metadata": {},
   "source": [
    "apply scaling factor for LUT"
   ]
  },
  {
   "cell_type": "code",
   "execution_count": 3,
   "id": "7e9f7689-f7f6-4ecd-9b2f-8788505cd31e",
   "metadata": {},
   "outputs": [
    {
     "data": {
      "text/plain": [
       "array([  0.      , 127.96057 , 255.92114 , 194.80565 ,  38.67465 ,\n",
       "        30.398594,  58.250706, 128.59718 ,  51.5662  , 230.45634 ,\n",
       "        53.47606 , 252.10143 , 110.135216,  89.12676 , 180.8     ,\n",
       "       202.44508 ], dtype=float32)"
      ]
     },
     "execution_count": 3,
     "metadata": {},
     "output_type": "execute_result"
    }
   ],
   "source": [
    "a_scaled = a * 256 / (2*np.pi)\n",
    "a_scaled"
   ]
  },
  {
   "cell_type": "markdown",
   "id": "c7e5055f-b63f-4312-b5d7-cb32db044b0a",
   "metadata": {},
   "source": [
    "bfloat16_to_int functionality"
   ]
  },
  {
   "cell_type": "code",
   "execution_count": 8,
   "id": "2dee86f8-95f9-4b6b-a728-9484d569f1ce",
   "metadata": {},
   "outputs": [],
   "source": [
    "def bfloat16_to_int(val, shift):\n",
    "    b = np.floor(val * 2 ** shift).astype(np.int32)\n",
    "    x = np.ones(16, dtype=np.int32) * ((2**31) - 1)\n",
    "    y = np.ones(16, dtype=np.int32) * (-2**31)\n",
    "    c = np.maximum(np.minimum(b, x), y)\n",
    "    return c"
   ]
  },
  {
   "cell_type": "code",
   "execution_count": 11,
   "id": "aeb41860-661f-4aad-b9e3-1a6bd6bd33bd",
   "metadata": {},
   "outputs": [
    {
     "data": {
      "text/plain": [
       "array([  0, 127, 255, 194,  38,  30,  58, 128,  51, 230,  53, 252, 110,\n",
       "        89, 180, 202], dtype=int32)"
      ]
     },
     "execution_count": 11,
     "metadata": {},
     "output_type": "execute_result"
    }
   ],
   "source": [
    "bfloat16_to_int(a_scaled, shift=0)"
   ]
  },
  {
   "cell_type": "code",
   "execution_count": null,
   "id": "b5a3983c-9879-4b7b-8887-00e561b5b784",
   "metadata": {},
   "outputs": [],
   "source": []
  }
 ],
 "metadata": {
  "kernelspec": {
   "display_name": "Python 3 (ipykernel)",
   "language": "python",
   "name": "python3"
  },
  "language_info": {
   "codemirror_mode": {
    "name": "ipython",
    "version": 3
   },
   "file_extension": ".py",
   "mimetype": "text/x-python",
   "name": "python",
   "nbconvert_exporter": "python",
   "pygments_lexer": "ipython3",
   "version": "3.12.3"
  }
 },
 "nbformat": 4,
 "nbformat_minor": 5
}
