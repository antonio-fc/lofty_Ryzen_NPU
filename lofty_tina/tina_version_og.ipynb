{
 "cells": [
  {
   "cell_type": "markdown",
   "metadata": {},
   "source": [
    "# Hello World Example\n",
    "\n",
    "This is a simple Jupyter Notebook that walks through the 4 steps of compiling and running a PyTorch model on the embedded Neural Processing Unit (NPU) in your AMD Ryzen AI enabled PC. The steps are as follows:\n",
    "\n",
    "1. Get model - download or create a PyTorch model that we will run on the NPU\n",
    "2. Export to ONNX - convert the PyTorch model to ONNX format.\n",
    "3. Quantize - optimize the model for faster inference on the NPU by reducing its precision to INT8.\n",
    "4. Run Model on CPU and NPU - compare performance between running the model on the CPU and on the NPU."
   ]
  },
  {
   "cell_type": "code",
   "execution_count": 19,
   "metadata": {},
   "outputs": [
    {
     "name": "stdout",
     "output_type": "stream",
     "text": [
      "Requirement already satisfied: torch in c:\\users\\mruiz\\.conda\\envs\\antonio-fortanet-capetillo-tudelft\\lib\\site-packages (from -r requirements.txt (line 1)) (2.5.1+cpu)\n",
      "Requirement already satisfied: ipykernel in c:\\users\\mruiz\\.conda\\envs\\antonio-fortanet-capetillo-tudelft\\lib\\site-packages (from -r requirements.txt (line 2)) (6.29.5)\n",
      "Requirement already satisfied: filelock in c:\\users\\mruiz\\.conda\\envs\\antonio-fortanet-capetillo-tudelft\\lib\\site-packages (from torch->-r requirements.txt (line 1)) (3.18.0)\n",
      "Requirement already satisfied: typing-extensions>=4.8.0 in c:\\users\\mruiz\\.conda\\envs\\antonio-fortanet-capetillo-tudelft\\lib\\site-packages (from torch->-r requirements.txt (line 1)) (4.13.2)\n",
      "Requirement already satisfied: networkx in c:\\users\\mruiz\\.conda\\envs\\antonio-fortanet-capetillo-tudelft\\lib\\site-packages (from torch->-r requirements.txt (line 1)) (3.4.2)\n",
      "Requirement already satisfied: jinja2 in c:\\users\\mruiz\\.conda\\envs\\antonio-fortanet-capetillo-tudelft\\lib\\site-packages (from torch->-r requirements.txt (line 1)) (3.1.6)\n",
      "Requirement already satisfied: fsspec in c:\\users\\mruiz\\.conda\\envs\\antonio-fortanet-capetillo-tudelft\\lib\\site-packages (from torch->-r requirements.txt (line 1)) (2025.3.2)\n",
      "Requirement already satisfied: sympy==1.13.1 in c:\\users\\mruiz\\.conda\\envs\\antonio-fortanet-capetillo-tudelft\\lib\\site-packages (from torch->-r requirements.txt (line 1)) (1.13.1)\n",
      "Requirement already satisfied: mpmath<1.4,>=1.1.0 in c:\\users\\mruiz\\.conda\\envs\\antonio-fortanet-capetillo-tudelft\\lib\\site-packages (from sympy==1.13.1->torch->-r requirements.txt (line 1)) (1.3.0)\n",
      "Requirement already satisfied: comm>=0.1.1 in c:\\users\\mruiz\\.conda\\envs\\antonio-fortanet-capetillo-tudelft\\lib\\site-packages (from ipykernel->-r requirements.txt (line 2)) (0.2.2)\n",
      "Requirement already satisfied: debugpy>=1.6.5 in c:\\users\\mruiz\\.conda\\envs\\antonio-fortanet-capetillo-tudelft\\lib\\site-packages (from ipykernel->-r requirements.txt (line 2)) (1.8.14)\n",
      "Requirement already satisfied: ipython>=7.23.1 in c:\\users\\mruiz\\.conda\\envs\\antonio-fortanet-capetillo-tudelft\\lib\\site-packages (from ipykernel->-r requirements.txt (line 2)) (8.36.0)\n",
      "Requirement already satisfied: jupyter-client>=6.1.12 in c:\\users\\mruiz\\.conda\\envs\\antonio-fortanet-capetillo-tudelft\\lib\\site-packages (from ipykernel->-r requirements.txt (line 2)) (8.6.3)\n",
      "Requirement already satisfied: jupyter-core!=5.0.*,>=4.12 in c:\\users\\mruiz\\.conda\\envs\\antonio-fortanet-capetillo-tudelft\\lib\\site-packages (from ipykernel->-r requirements.txt (line 2)) (5.7.2)\n",
      "Requirement already satisfied: matplotlib-inline>=0.1 in c:\\users\\mruiz\\.conda\\envs\\antonio-fortanet-capetillo-tudelft\\lib\\site-packages (from ipykernel->-r requirements.txt (line 2)) (0.1.7)\n",
      "Requirement already satisfied: nest-asyncio in c:\\users\\mruiz\\.conda\\envs\\antonio-fortanet-capetillo-tudelft\\lib\\site-packages (from ipykernel->-r requirements.txt (line 2)) (1.6.0)\n",
      "Requirement already satisfied: packaging in c:\\users\\mruiz\\.conda\\envs\\antonio-fortanet-capetillo-tudelft\\lib\\site-packages (from ipykernel->-r requirements.txt (line 2)) (25.0)\n",
      "Requirement already satisfied: psutil in c:\\users\\mruiz\\.conda\\envs\\antonio-fortanet-capetillo-tudelft\\lib\\site-packages (from ipykernel->-r requirements.txt (line 2)) (7.0.0)\n",
      "Requirement already satisfied: pyzmq>=24 in c:\\users\\mruiz\\.conda\\envs\\antonio-fortanet-capetillo-tudelft\\lib\\site-packages (from ipykernel->-r requirements.txt (line 2)) (26.4.0)\n",
      "Requirement already satisfied: tornado>=6.1 in c:\\users\\mruiz\\.conda\\envs\\antonio-fortanet-capetillo-tudelft\\lib\\site-packages (from ipykernel->-r requirements.txt (line 2)) (6.5)\n",
      "Requirement already satisfied: traitlets>=5.4.0 in c:\\users\\mruiz\\.conda\\envs\\antonio-fortanet-capetillo-tudelft\\lib\\site-packages (from ipykernel->-r requirements.txt (line 2)) (5.14.3)\n",
      "Requirement already satisfied: colorama in c:\\users\\mruiz\\.conda\\envs\\antonio-fortanet-capetillo-tudelft\\lib\\site-packages (from ipython>=7.23.1->ipykernel->-r requirements.txt (line 2)) (0.4.6)\n",
      "Requirement already satisfied: decorator in c:\\users\\mruiz\\.conda\\envs\\antonio-fortanet-capetillo-tudelft\\lib\\site-packages (from ipython>=7.23.1->ipykernel->-r requirements.txt (line 2)) (5.2.1)\n",
      "Requirement already satisfied: exceptiongroup in c:\\users\\mruiz\\.conda\\envs\\antonio-fortanet-capetillo-tudelft\\lib\\site-packages (from ipython>=7.23.1->ipykernel->-r requirements.txt (line 2)) (1.3.0)\n",
      "Requirement already satisfied: jedi>=0.16 in c:\\users\\mruiz\\.conda\\envs\\antonio-fortanet-capetillo-tudelft\\lib\\site-packages (from ipython>=7.23.1->ipykernel->-r requirements.txt (line 2)) (0.19.2)\n",
      "Requirement already satisfied: prompt_toolkit<3.1.0,>=3.0.41 in c:\\users\\mruiz\\.conda\\envs\\antonio-fortanet-capetillo-tudelft\\lib\\site-packages (from ipython>=7.23.1->ipykernel->-r requirements.txt (line 2)) (3.0.51)\n",
      "Requirement already satisfied: pygments>=2.4.0 in c:\\users\\mruiz\\.conda\\envs\\antonio-fortanet-capetillo-tudelft\\lib\\site-packages (from ipython>=7.23.1->ipykernel->-r requirements.txt (line 2)) (2.19.1)\n",
      "Requirement already satisfied: stack_data in c:\\users\\mruiz\\.conda\\envs\\antonio-fortanet-capetillo-tudelft\\lib\\site-packages (from ipython>=7.23.1->ipykernel->-r requirements.txt (line 2)) (0.6.3)\n",
      "Requirement already satisfied: python-dateutil>=2.8.2 in c:\\users\\mruiz\\.conda\\envs\\antonio-fortanet-capetillo-tudelft\\lib\\site-packages (from jupyter-client>=6.1.12->ipykernel->-r requirements.txt (line 2)) (2.9.0.post0)\n",
      "Requirement already satisfied: platformdirs>=2.5 in c:\\users\\mruiz\\.conda\\envs\\antonio-fortanet-capetillo-tudelft\\lib\\site-packages (from jupyter-core!=5.0.*,>=4.12->ipykernel->-r requirements.txt (line 2)) (4.3.8)\n",
      "Requirement already satisfied: pywin32>=300 in c:\\users\\mruiz\\.conda\\envs\\antonio-fortanet-capetillo-tudelft\\lib\\site-packages (from jupyter-core!=5.0.*,>=4.12->ipykernel->-r requirements.txt (line 2)) (307)\n",
      "Requirement already satisfied: MarkupSafe>=2.0 in c:\\users\\mruiz\\.conda\\envs\\antonio-fortanet-capetillo-tudelft\\lib\\site-packages (from jinja2->torch->-r requirements.txt (line 1)) (3.0.2)\n",
      "Requirement already satisfied: parso<0.9.0,>=0.8.4 in c:\\users\\mruiz\\.conda\\envs\\antonio-fortanet-capetillo-tudelft\\lib\\site-packages (from jedi>=0.16->ipython>=7.23.1->ipykernel->-r requirements.txt (line 2)) (0.8.4)\n",
      "Requirement already satisfied: wcwidth in c:\\users\\mruiz\\.conda\\envs\\antonio-fortanet-capetillo-tudelft\\lib\\site-packages (from prompt_toolkit<3.1.0,>=3.0.41->ipython>=7.23.1->ipykernel->-r requirements.txt (line 2)) (0.2.13)\n",
      "Requirement already satisfied: six>=1.5 in c:\\users\\mruiz\\.conda\\envs\\antonio-fortanet-capetillo-tudelft\\lib\\site-packages (from python-dateutil>=2.8.2->jupyter-client>=6.1.12->ipykernel->-r requirements.txt (line 2)) (1.17.0)\n",
      "Requirement already satisfied: executing>=1.2.0 in c:\\users\\mruiz\\.conda\\envs\\antonio-fortanet-capetillo-tudelft\\lib\\site-packages (from stack_data->ipython>=7.23.1->ipykernel->-r requirements.txt (line 2)) (2.2.0)\n",
      "Requirement already satisfied: asttokens>=2.1.0 in c:\\users\\mruiz\\.conda\\envs\\antonio-fortanet-capetillo-tudelft\\lib\\site-packages (from stack_data->ipython>=7.23.1->ipykernel->-r requirements.txt (line 2)) (3.0.0)\n",
      "Requirement already satisfied: pure_eval in c:\\users\\mruiz\\.conda\\envs\\antonio-fortanet-capetillo-tudelft\\lib\\site-packages (from stack_data->ipython>=7.23.1->ipykernel->-r requirements.txt (line 2)) (0.2.3)\n"
     ]
    }
   ],
   "source": [
    "# Before starting, be sure you've installed the requirements listed in the requirements.txt file:\n",
    "!python -m pip install -r requirements.txt"
   ]
  },
  {
   "cell_type": "markdown",
   "metadata": {},
   "source": [
    "### 0. Imports & Environment Variables\n",
    "\n",
    "We'll use the following imports in our example. `torch` and `torch_nn` are used for building and running ML models. We'll use them to define a small neural network and to generate the model weights. `os` is used for interacting with the operating system and is used to manage our environment variables, file paths, and directories. `subprocess` allows us to retrieve the hardware information. `onnx` and `onnxruntime` are used to work with our model in the ONNX format and for running our inference. `vai_q_onnx` is part of the Vitis AI Quantizer for ONNX models. We use it to perform quantization, converting the model into an INT8 format that is optimized for the NPU."
   ]
  },
  {
   "cell_type": "code",
   "execution_count": 20,
   "metadata": {},
   "outputs": [],
   "source": [
    "import torch\n",
    "import torch.nn as nn\n",
    "import os\n",
    "import subprocess\n",
    "import onnxruntime\n",
    "import numpy as np\n",
    "import onnx\n",
    "import shutil\n",
    "from timeit import default_timer as timer\n",
    "import vai_q_onnx"
   ]
  },
  {
   "cell_type": "markdown",
   "metadata": {},
   "source": [
    "As well, we want to set the environment variables based on the NPU device we have in our PC. For more information about NPU configurations, see: For more information about NPU configurations, refer to the official [AMD Ryzen AI Documentation](https://ryzenai.docs.amd.com/en/latest/runtime_setup.html)."
   ]
  },
  {
   "cell_type": "code",
   "execution_count": 21,
   "metadata": {},
   "outputs": [
    {
     "name": "stdout",
     "output_type": "stream",
     "text": [
      "APU Type: PHX/HPT\n"
     ]
    }
   ],
   "source": [
    "# This function detects the APU (NPU) type in your system to configure environment variables for hardware-specific optimization.\n",
    "def get_apu_info():\n",
    "    # Run pnputil as a subprocess to enumerate PCI devices\n",
    "    command = r'pnputil /enum-devices /bus PCI /deviceids '\n",
    "    process = subprocess.Popen(command, shell=True, stdout=subprocess.PIPE, stderr=subprocess.PIPE)\n",
    "    stdout, stderr = process.communicate()\n",
    "    # Check for supported Hardware IDs\n",
    "    apu_type = ''\n",
    "    if 'PCI\\\\VEN_1022&DEV_1502&REV_00' in stdout.decode(): apu_type = 'PHX/HPT'\n",
    "    if 'PCI\\\\VEN_1022&DEV_17F0&REV_00' in stdout.decode(): apu_type = 'STX'\n",
    "    if 'PCI\\\\VEN_1022&DEV_17F0&REV_10' in stdout.decode(): apu_type = 'STX'\n",
    "    if 'PCI\\\\VEN_1022&DEV_17F0&REV_11' in stdout.decode(): apu_type = 'STX'\n",
    "    return apu_type\n",
    "\n",
    "apu_type = get_apu_info()\n",
    "print(f\"APU Type: {apu_type}\")"
   ]
  },
  {
   "cell_type": "code",
   "execution_count": 22,
   "metadata": {},
   "outputs": [
    {
     "name": "stdout",
     "output_type": "stream",
     "text": [
      "Setting environment for PHX/HPT\n",
      "XLNX_VART_FIRMWARE= C:\\Program Files\\RyzenAI\\1.4.1\\voe-4.0-win_amd64\\xclbins\\phoenix\\1x4.xclbin\n",
      "NUM_OF_DPU_RUNNERS= 1\n",
      "XLNX_TARGET_NAME= AMD_AIE2_Nx4_Overlay\n"
     ]
    }
   ],
   "source": [
    "# XLNX_VART_FIRMWARE - Specifies the firmware file used by the NPU for runtime execution\n",
    "# NUM_OF_DPU_RUNNERS - Specifies the number of DPU runners (processing cores) available for execution\n",
    "# XLNX_TARGET_NAME - Name of the target hardware configuration\n",
    "\n",
    "def set_environment_variable(apu_type):\n",
    "\n",
    "    install_dir = os.environ['RYZEN_AI_INSTALLATION_PATH']\n",
    "    match apu_type:\n",
    "        case 'PHX/HPT':\n",
    "            print(\"Setting environment for PHX/HPT\")\n",
    "            os.environ['XLNX_VART_FIRMWARE']= os.path.join(install_dir, 'voe-4.0-win_amd64', 'xclbins', 'phoenix', '1x4.xclbin')\n",
    "            os.environ['NUM_OF_DPU_RUNNERS']='1'\n",
    "            os.environ['XLNX_TARGET_NAME']='AMD_AIE2_Nx4_Overlay'\n",
    "        case 'STX':\n",
    "            print(\"Setting environment for STX\")\n",
    "            os.environ['XLNX_VART_FIRMWARE']= os.path.join(install_dir, 'voe-4.0-win_amd64', 'xclbins', 'strix', 'AMD_AIE2P_Nx4_Overlay.xclbin')\n",
    "            os.environ['NUM_OF_DPU_RUNNERS']='1'\n",
    "            os.environ['XLNX_TARGET_NAME']='AMD_AIE2_Nx4_Overlay'\n",
    "        case _:\n",
    "            print(\"Unrecognized APU type. Exiting.\")\n",
    "            exit()\n",
    "    print('XLNX_VART_FIRMWARE=', os.environ['XLNX_VART_FIRMWARE'])\n",
    "    print('NUM_OF_DPU_RUNNERS=', os.environ['NUM_OF_DPU_RUNNERS'])\n",
    "    print('XLNX_TARGET_NAME=', os.environ['XLNX_TARGET_NAME'])\n",
    "\n",
    "set_environment_variable(apu_type)"
   ]
  },
  {
   "cell_type": "markdown",
   "metadata": {},
   "source": [
    "### 1. Get Model\n",
    "Here, we'll use the PyTorch library to define and instantiate a simple neural network model called `SmallModel` as a starting point. You can swap this model with any custom model, but make sure the input/output shapes remain compatible."
   ]
  },
  {
   "cell_type": "code",
   "execution_count": 23,
   "metadata": {},
   "outputs": [
    {
     "name": "stdout",
     "output_type": "stream",
     "text": [
      "Files extracted to: unzipped_files\n"
     ]
    }
   ],
   "source": [
    "import os\n",
    "import zipfile\n",
    "\n",
    "extract_dir = \"unzipped_files\"  # or any directory you want to extract to\n",
    "output = \"unzipped_files/inputfiles.zip\"\n",
    "\n",
    "# Unzip the file\n",
    "with zipfile.ZipFile(output, 'r') as zip_ref:\n",
    "    zip_ref.extractall(extract_dir)\n",
    "\n",
    "print(f\"Files extracted to: {extract_dir}\")"
   ]
  },
  {
   "cell_type": "code",
   "execution_count": 24,
   "metadata": {},
   "outputs": [
    {
     "name": "stdout",
     "output_type": "stream",
     "text": [
      "Visibilities\n",
      "visR: (96, 96) visI: (96, 96)\n",
      "Baselines\n",
      "u: (96, 96) v: (96, 96) w: (96, 96)\n",
      "Frequency\n",
      "freq: (1,) = 58593750.0\n",
      "LMN\n",
      "l: (100, 100) m: (100, 100) n: (100, 100)\n"
     ]
    }
   ],
   "source": [
    "import numpy as np\n",
    "SPEED_OF_LIGHT = 299792458.0\n",
    "\n",
    "def read_npy_data(path):\n",
    "    baselines = np.load(f\"{path}/baselines.npy\")\n",
    "    visibilities = np.load(f\"{path}/vis.npy\")[0]\n",
    "    frequency = np.load(f\"{path}/freq.npy\")\n",
    "    return (frequency, visibilities, baselines)\n",
    "npix_l, npix_m = 100, 100\n",
    "frequency, visibilities, baselines = read_npy_data(path=extract_dir)\n",
    "visR, visI = np.real(visibilities), np.imag(visibilities)\n",
    "u, v, w = [baselines[:, :, i] for i in range(3)]\n",
    "l, m = np.meshgrid(np.linspace(-1, 1, npix_l), np.linspace(1, -1, npix_m))\n",
    "with np.errstate(all='ignore'):\n",
    "    n = np.sqrt(1 - l**2 - m**2) - 1\n",
    "    nan_mask = np.isnan(n)\n",
    "    n = np.nan_to_num(n) # or else it doesnt work\n",
    "print(\"Visibilities\")\n",
    "print(\"visR:\", visR.shape, \"visI:\",  visI.shape)\n",
    "print(\"Baselines\")\n",
    "print(\"u:\", u.shape, \"v:\", v.shape, \"w:\", w.shape)\n",
    "print(\"Frequency\")\n",
    "print(\"freq:\", frequency.shape, \"=\", frequency[0])\n",
    "print(\"LMN\")\n",
    "print(\"l:\", l.shape, \"m:\", m.shape, \"n:\", n.shape)"
   ]
  },
  {
   "cell_type": "code",
   "execution_count": 25,
   "metadata": {},
   "outputs": [],
   "source": [
    "import numpy as np\n",
    "\n",
    "SPEED_OF_LIGHT = 299792458.0\n",
    "\n",
    "\n",
    "def sky_imager_simple_just_exp_correct_shape(\n",
    "    baselines,\n",
    "    freq,\n",
    "    npix_l: int,\n",
    "    npix_m: int,\n",
    "):\n",
    "    \"\"\"\n",
    "    :param visibilities: 2d rectangular array of visibilities\n",
    "    :param baselines: 3d array with u, v, w per antenna baseline (N^2)\n",
    "    :param freq: the frequency in hertz\n",
    "    :param npix_l: number of pixels length\n",
    "    :param npix_m: number of pixels height\n",
    "    :return: 2d image from the imaging process\n",
    "    \"\"\"\n",
    "    exp_matrix = np.zeros((npix_l*npix_m,1 , baselines.shape[0], baselines.shape[1]), dtype=np.complex64)\n",
    "    img = np.zeros((npix_l, npix_m), dtype=np.complex128)\n",
    "    l, m = np.meshgrid(np.linspace(-1, 1, npix_l), np.linspace(1, -1, npix_m))\n",
    "    n = np.sqrt(1 - l**2 - m**2) - 1\n",
    "\n",
    "    for l_ix in range(npix_l):\n",
    "        for m_ix in range(npix_m):\n",
    "            exp_matrix[l_ix * npix_m + m_ix, :, :, :] = np.exp(\n",
    "                    -2j\n",
    "                    * np.pi\n",
    "                    * freq\n",
    "                    * (\n",
    "                        baselines[:, :, 0] * l[l_ix, m_ix]\n",
    "                        + baselines[:, :, 1] * m[l_ix, m_ix]\n",
    "                        + baselines[:, :, 2] * n[l_ix, m_ix]\n",
    "                    )\n",
    "                    / SPEED_OF_LIGHT\n",
    "\n",
    "            )\n",
    "            if l_ix == 4 and m_ix == 4:\n",
    "              print(\"we multiply matrix visibilities at L_ix == 4 and m_ix index \",l_ix * npix_m + m_ix ,\"with exp matrix: \", exp_matrix[l_ix * npix_m + m_ix, :, :, :]  )\n",
    "\n",
    "\n",
    "    return exp_matrix"
   ]
  },
  {
   "cell_type": "code",
   "execution_count": 26,
   "metadata": {},
   "outputs": [],
   "source": [
    "import torch\n",
    "import torch.nn as nn\n",
    "\n",
    "class ElementwiseMult_Astron_final(nn.Module):\n",
    "  def __init__(self, matrix) -> None:\n",
    "      super(ElementwiseMult_Astron_final, self).__init__()\n",
    "      shape = matrix.shape\n",
    "\n",
    "      self.batch, self.channels, self.height, self.width = shape\n",
    "      #print(\"shape of exponential matrix: \", shape)\n",
    "\n",
    "      self.conv_layer = nn.Conv2d(2, self.batch, bias=False, kernel_size= (self.width,self.height), stride= (1, 1), groups= 1)\n",
    "      print(\"shape of kernel:\", self.conv_layer.weight.data.shape)\n",
    "      #weightsconv = matrix.view(self.batch*self.channels, 1, self.height,  self.width)\n",
    "      weightsconv = matrix\n",
    "      print(\"shape of our exponential kernel:\", weightsconv.shape)\n",
    "\n",
    "      self.conv_layer.weight.data = weightsconv\n",
    "\n",
    "  def forward(self, x):\n",
    "    shape = x.shape\n",
    "    print(\"shape of input ElementwiseMult_Astron: \", shape)\n",
    "    #batch_size = shape[0]\n",
    "\n",
    "\n",
    "    #input = x.view(batch_size, self.height*self.width, 1, 1)\n",
    "    print(\"TINA we multiply the visibilites:\", x, \"with the following index 4, 4\", self.conv_layer.weight.data[4 * 10 + 4][0][:][:])\n",
    "    out = self.conv_layer(x)\n",
    "    print(\"shape of output: \", out.shape)\n",
    "    #out = out.view(self.height, self.width)\n",
    "    #print(\"shape of output after reshape: \", out.shape)\n",
    "    out = out.view(1, 1, self.batch, 1)\n",
    "    print(\"shape of output after reshape: \", out.shape)\n",
    "    # out = out/9216.0\n",
    "    #print(\"shape of output after division: \", out.shape)\n",
    "\n",
    "    return out"
   ]
  },
  {
   "cell_type": "code",
   "execution_count": 27,
   "metadata": {},
   "outputs": [],
   "source": [
    "from math import exp\n",
    "class sky_imager_TINA_comp_final(nn.Module):\n",
    "  def __init__(self,\n",
    "    baselines,\n",
    "    freq,\n",
    "    npix_l: int,\n",
    "    npix_m: int,) -> None:\n",
    "      super(sky_imager_TINA_comp_final, self).__init__()\n",
    "      # self.N = N      #exp_matrix = np.real(generate_exponential_matrix(baselines, freq, npix_l, npix_m))\n",
    "      #exp_matrix = torch.from_numpy(exp_matrix).float()\n",
    "      exp_matrix_imag = np.imag(sky_imager_simple_just_exp_correct_shape(baselines, freq, npix_l, npix_m))\n",
    "      print(\"numpy version exp mat: \", exp_matrix_imag[4 * 10 + 4][0][:][:])\n",
    "      exp_matriximag_tensor = torch.from_numpy(exp_matrix_imag).float()\n",
    "      exp_matriximag_tensor = exp_matriximag_tensor * -1\n",
    "      print(\"numpy version exp mat: \", exp_matriximag_tensor[4 * 10 + 4][0][:][:])\n",
    "      shapexp = exp_matriximag_tensor.shape\n",
    "\n",
    "      print(\"before reshape\", shapexp)\n",
    "\n",
    "      #exp_matrix = exp_matrix.view(shapexp[3],  shapexp[2], shapexp[1], shapexp[0] )\n",
    "      #print(\"after reshape\", exp_matrix.shape)\n",
    "      #self.matrix_mult_imag = ElementwiseMult_Astron_alt_comp(exp_matriximag_tensor)\n",
    "\n",
    "      exp_matrix_real = np.real(sky_imager_simple_just_exp_correct_shape(baselines, freq, npix_l, npix_m))\n",
    "      print(\"numpy version exp mat: \", exp_matrix_real[4 * 10 + 4][0][:][:])\n",
    "      exp_matrixreal_tensor = torch.from_numpy(exp_matrix_real).float()\n",
    "      print(\"numpy version exp mat: \", exp_matrix_real[4 * 10 + 4][0][:][:])\n",
    "      shapexp = exp_matrixreal_tensor.shape\n",
    "      #self.summation = Summation(self.N)\n",
    "      #self.matrix_mult_real = ElementwiseMult_Astron_alt(exp_matrixreal_tensor)\n",
    "      exp_matrix_comp = torch.concat((exp_matrixreal_tensor, exp_matriximag_tensor), dim=1)\n",
    "      print(\"after stack\", exp_matrix_comp.shape)\n",
    "      self.matrix_mult = ElementwiseMult_Astron_final(exp_matrix_comp)\n",
    "\n",
    "\n",
    "  def forward(self, x):\n",
    "    print(\"shape of input Sky_imager_TINA_real: \", x.shape)\n",
    "    outputcomp = self.matrix_mult(x)\n",
    "\n",
    "\n",
    "    #output =  outputcomp[:,:,:npix_l*npix_m,:] - outputcomp[:,:,npix_l*npix_m:,:]\n",
    "    #x = x\n",
    "    #x = x * self.exp_matrix\n",
    "    #print(x.shape)\n",
    "    #x = self.summation(x)\n",
    "    #x = x/self.N\n",
    "\n",
    "\n",
    "    return outputcomp"
   ]
  },
  {
   "cell_type": "code",
   "execution_count": 28,
   "metadata": {},
   "outputs": [
    {
     "name": "stderr",
     "output_type": "stream",
     "text": [
      "C:\\Users\\mruiz\\AppData\\Local\\Temp\\ipykernel_11424\\1869593315.py:23: RuntimeWarning: invalid value encountered in sqrt\n",
      "  n = np.sqrt(1 - l**2 - m**2) - 1\n"
     ]
    },
    {
     "name": "stdout",
     "output_type": "stream",
     "text": [
      "we multiply matrix visibilities at L_ix == 4 and m_ix index  404 with exp matrix:  [[[nan+nanj nan+nanj nan+nanj ... nan+nanj nan+nanj nan+nanj]\n",
      "  [nan+nanj nan+nanj nan+nanj ... nan+nanj nan+nanj nan+nanj]\n",
      "  [nan+nanj nan+nanj nan+nanj ... nan+nanj nan+nanj nan+nanj]\n",
      "  ...\n",
      "  [nan+nanj nan+nanj nan+nanj ... nan+nanj nan+nanj nan+nanj]\n",
      "  [nan+nanj nan+nanj nan+nanj ... nan+nanj nan+nanj nan+nanj]\n",
      "  [nan+nanj nan+nanj nan+nanj ... nan+nanj nan+nanj nan+nanj]]]\n",
      "numpy version exp mat:  [[nan nan nan ... nan nan nan]\n",
      " [nan nan nan ... nan nan nan]\n",
      " [nan nan nan ... nan nan nan]\n",
      " ...\n",
      " [nan nan nan ... nan nan nan]\n",
      " [nan nan nan ... nan nan nan]\n",
      " [nan nan nan ... nan nan nan]]\n",
      "numpy version exp mat:  tensor([[nan, nan, nan,  ..., nan, nan, nan],\n",
      "        [nan, nan, nan,  ..., nan, nan, nan],\n",
      "        [nan, nan, nan,  ..., nan, nan, nan],\n",
      "        ...,\n",
      "        [nan, nan, nan,  ..., nan, nan, nan],\n",
      "        [nan, nan, nan,  ..., nan, nan, nan],\n",
      "        [nan, nan, nan,  ..., nan, nan, nan]])\n",
      "before reshape torch.Size([10000, 1, 96, 96])\n",
      "we multiply matrix visibilities at L_ix == 4 and m_ix index  404 with exp matrix:  [[[nan+nanj nan+nanj nan+nanj ... nan+nanj nan+nanj nan+nanj]\n",
      "  [nan+nanj nan+nanj nan+nanj ... nan+nanj nan+nanj nan+nanj]\n",
      "  [nan+nanj nan+nanj nan+nanj ... nan+nanj nan+nanj nan+nanj]\n",
      "  ...\n",
      "  [nan+nanj nan+nanj nan+nanj ... nan+nanj nan+nanj nan+nanj]\n",
      "  [nan+nanj nan+nanj nan+nanj ... nan+nanj nan+nanj nan+nanj]\n",
      "  [nan+nanj nan+nanj nan+nanj ... nan+nanj nan+nanj nan+nanj]]]\n",
      "numpy version exp mat:  [[nan nan nan ... nan nan nan]\n",
      " [nan nan nan ... nan nan nan]\n",
      " [nan nan nan ... nan nan nan]\n",
      " ...\n",
      " [nan nan nan ... nan nan nan]\n",
      " [nan nan nan ... nan nan nan]\n",
      " [nan nan nan ... nan nan nan]]\n",
      "numpy version exp mat:  [[nan nan nan ... nan nan nan]\n",
      " [nan nan nan ... nan nan nan]\n",
      " [nan nan nan ... nan nan nan]\n",
      " ...\n",
      " [nan nan nan ... nan nan nan]\n",
      " [nan nan nan ... nan nan nan]\n",
      " [nan nan nan ... nan nan nan]]\n",
      "after stack torch.Size([10000, 2, 96, 96])\n",
      "shape of kernel: torch.Size([10000, 2, 96, 96])\n",
      "shape of our exponential kernel: torch.Size([10000, 2, 96, 96])\n",
      "sky_imager_TINA_comp_final(\n",
      "  (matrix_mult): ElementwiseMult_Astron_final(\n",
      "    (conv_layer): Conv2d(2, 10000, kernel_size=(96, 96), stride=(1, 1), bias=False)\n",
      "  )\n",
      ")\n"
     ]
    }
   ],
   "source": [
    "# vis_tensor_imag = torch.from_numpy(np.imag(visibilities)).float()\n",
    "# vis_tensor_real = torch.from_numpy(np.real(visibilities)).float()\n",
    "# shape_input = vis_tensor_real.shape\n",
    "\n",
    "# vis_tensor_imag = vis_tensor_imag.view(1, 1, shape_input[0],  shape_input[1])\n",
    "# vis_tensor_real = vis_tensor_real.view(1, 1, shape_input[0],  shape_input[1])\n",
    "# vis_tensor_comp = torch.concat((vis_tensor_real, vis_tensor_imag), dim=1)\n",
    "# print(\"after stack input\", vis_tensor_comp.shape)\n",
    "\n",
    "# Instantiate the model\n",
    "pytorch_model = sky_imager_TINA_comp_final(baselines, frequency, npix_l, npix_m)\n",
    "\n",
    "pytorch_model.eval()\n",
    "\n",
    "# Print the model architecture\n",
    "print(pytorch_model)"
   ]
  },
  {
   "cell_type": "markdown",
   "metadata": {},
   "source": [
    "### 2. Export to ONNX\n",
    "\n",
    "The following code is used for exporting a PyTorch model (pytorch_model) to the ONNX (Open Neural Network Exchange) format. ONNX is an open format that facilitates interoperability between different AI frameworks. Ryzen AI uses ONNX as the input format for quantization using the Vitis AI Quantizer. "
   ]
  },
  {
   "cell_type": "code",
   "execution_count": 29,
   "metadata": {},
   "outputs": [
    {
     "name": "stdout",
     "output_type": "stream",
     "text": [
      "shape of input Sky_imager_TINA_real:  torch.Size([1, 2, 96, 96])\n",
      "shape of input ElementwiseMult_Astron:  torch.Size([1, 2, 96, 96])\n",
      "TINA we multiply the visibilites: tensor([[[[ 0.3370,  1.7677,  1.6209,  ..., -0.3774,  0.8990,  0.0420],\n",
      "          [ 0.1313,  0.1344,  1.4482,  ...,  0.1656,  0.7335,  0.8305],\n",
      "          [ 1.7172,  0.4603, -0.1949,  ..., -1.6016,  0.2487, -0.5024],\n",
      "          ...,\n",
      "          [ 1.6895, -1.2703, -0.5163,  ...,  0.3649,  0.2814,  0.6664],\n",
      "          [-0.1534, -1.9907, -0.1386,  ...,  1.6247,  0.1335,  0.8271],\n",
      "          [ 0.2850, -0.6006, -0.7065,  ..., -0.7007,  0.0060,  0.8930]],\n",
      "\n",
      "         [[ 0.0434, -0.4165,  0.0881,  ..., -0.8262, -0.9664,  0.5763],\n",
      "          [ 0.9179, -0.1548, -0.6990,  ...,  0.8191,  0.0580, -0.2415],\n",
      "          [ 0.1223, -0.0255, -0.7634,  ..., -0.9970,  0.7605,  0.1359],\n",
      "          ...,\n",
      "          [ 0.0774, -0.6376, -0.4127,  ...,  1.2355, -0.7214,  1.2455],\n",
      "          [ 0.4281,  1.3203,  1.3006,  ...,  0.3964,  0.6433,  0.1547],\n",
      "          [ 0.4421,  1.0721,  2.0448,  ...,  0.8223, -0.0066,  1.1510]]]]) with the following index 4, 4 tensor([[nan, nan, nan,  ..., nan, nan, nan],\n",
      "        [nan, nan, nan,  ..., nan, nan, nan],\n",
      "        [nan, nan, nan,  ..., nan, nan, nan],\n",
      "        ...,\n",
      "        [nan, nan, nan,  ..., nan, nan, nan],\n",
      "        [nan, nan, nan,  ..., nan, nan, nan],\n",
      "        [nan, nan, nan,  ..., nan, nan, nan]])\n",
      "shape of output:  torch.Size([1, 10000, 1, 1])\n",
      "shape of output after reshape:  torch.Size([1, 1, 10000, 1])\n"
     ]
    }
   ],
   "source": [
    "# Generate dummy input data\n",
    "# batch_size = 1\n",
    "# input_channels = 3\n",
    "# input_size = 224\n",
    "# dummy_input = torch.rand(batch_size, input_channels, input_size, input_size)\n",
    "\n",
    "# Prep for ONNX export\n",
    "# inputs = {\"x\": dummy_input}\n",
    "# dynamic_axes = {'input': {0: 'batch_size'}, 'output': {0: 'batch_size'}}\n",
    "# tmp_model_path = \"models/helloworld.onnx\"\n",
    "input1 = torch.randn(1, 2, 96, 96)\n",
    "inputs = {\"x\": input1}\n",
    "dynamic_axes = {\"input\": {0: \"batch_size\"}, \"output\": {0: \"batch_size\"}}\n",
    "\n",
    "model_path = \"models/lofty.onnx\"\n",
    "\n",
    "# Call export function\n",
    "torch.onnx.export(\n",
    "        pytorch_model,\n",
    "        inputs,\n",
    "        model_path,\n",
    "        export_params=True,\n",
    "        opset_version=17,  # Recommended opset\n",
    "        input_names=['input'],\n",
    "        output_names=['output'],\n",
    "        dynamic_axes=dynamic_axes,\n",
    "    )"
   ]
  },
  {
   "cell_type": "markdown",
   "metadata": {},
   "source": [
    "### 3. Quantize Model\n",
    "\n",
    "Using the static quantization method provided by the AMD Quark Quantizer and providing the newly exported ONNX model, we'll quantize the model to INT8. Quantization reduces the precision of model weights and activations from 32-bit floating point (FP32) to 8-bit integers (INT8). This compression allows the model to run faster on hardware accelerators like NPUs, while maintaining nearly the same accuracy. For more information on this quantization method, see [AMD Quark Quantization](https://ryzenai.docs.amd.com/en/latest/modelport.html)."
   ]
  },
  {
   "cell_type": "code",
   "execution_count": 30,
   "metadata": {},
   "outputs": [],
   "source": [
    "# from quark.onnx.quantization.config import Config, get_default_config\n",
    "# from quark.onnx import ModelQuantizer\n",
    "\n",
    "# # `input_model_path` is the path to the original, unquantized ONNX model.\n",
    "# input_model_path = \"models/helloworld.onnx\"\n",
    "\n",
    "# # `output_model_path` is the path where the quantized model will be saved.\n",
    "# output_model_path = \"models/helloworld_quantized.onnx\"\n",
    "\n",
    "# # Use default quantization configuration\n",
    "# quant_config = get_default_config(\"XINT8\")\n",
    "# quant_config.extra_options[\"UseRandomData\"] = True\n",
    "# # Defines the quantization configuration for the whole model\n",
    "# config = Config(global_quant_config=quant_config)\n",
    "# print(\"The configuration of the quantization is {}\".format(config))\n",
    "\n",
    "# # Create an ONNX Quantizer\n",
    "# quantizer = ModelQuantizer(config)\n",
    "\n",
    "# # Quantize the ONNX model\n",
    "# quant_model = quantizer.quantize_model(model_input = input_model_path,\n",
    "#                                        model_output = output_model_path,\n",
    "#                                        calibration_data_path = None)\n",
    "\n",
    "# print('Calibrated and quantized model saved at:', output_model_path)"
   ]
  },
  {
   "cell_type": "markdown",
   "metadata": {},
   "source": [
    "### 4. Run Model\n",
    "\n",
    "#### CPU Run\n",
    "\n",
    "Before runnning the model on the NPU, we'll run the model on the CPU and get the execution time for comparison with the NPU."
   ]
  },
  {
   "cell_type": "code",
   "execution_count": 47,
   "metadata": {},
   "outputs": [
    {
     "name": "stdout",
     "output_type": "stream",
     "text": [
      "torch.Size([1, 2, 96, 96])\n",
      "Input name: input, shape: ['batch_size', 2, 96, 96]\n",
      "0.06281259993556887\n"
     ]
    }
   ],
   "source": [
    "# Specify the path to the quantized ONNZ Model\n",
    "quantized_model_path = r'./models/lofty.onnx'\n",
    "model = onnx.load(quantized_model_path)\n",
    "\n",
    "# Create some random input data for testing\n",
    "# input_data = np.random.uniform(low=-1, high=1, size=(batch_size, input_channels, input_size, input_size)).astype(np.float32)\n",
    "vis_tensor_imag = torch.from_numpy(np.imag(visibilities)).float()\n",
    "vis_tensor_real = torch.from_numpy(np.real(visibilities)).float()\n",
    "shape_input = vis_tensor_real.shape\n",
    "\n",
    "vis_tensor_imag = vis_tensor_imag.view(1, 1, shape_input[0],  shape_input[1])\n",
    "vis_tensor_real = vis_tensor_real.view(1, 1, shape_input[0],  shape_input[1])\n",
    "vis_tensor_comp = torch.concat((vis_tensor_real, vis_tensor_imag), dim=1)\n",
    "print(vis_tensor_comp.shape)\n",
    "input_data = {\"input\": vis_tensor_comp.numpy()}\n",
    "\n",
    "cpu_options = onnxruntime.SessionOptions()\n",
    "\n",
    "# Create Inference Session to run the quantized model on the CPU\n",
    "cpu_session = onnxruntime.InferenceSession(\n",
    "    model.SerializeToString(),\n",
    "    providers = ['CPUExecutionProvider'],\n",
    "    sess_options=cpu_options,\n",
    ")\n",
    "\n",
    "for input_info in cpu_session.get_inputs():\n",
    "    print(f\"Input name: {input_info.name}, shape: {input_info.shape}\")\n",
    "\n",
    "# Run Inference\n",
    "start = timer()\n",
    "cpu_results = cpu_session.run(None, input_data)\n",
    "cpu_total = timer() - start\n",
    "print(cpu_total)"
   ]
  },
  {
   "cell_type": "markdown",
   "metadata": {},
   "source": [
    "#### NPU Run\n",
    "\n",
    "Now, we'll run it on the NPU and time the execution so that we can compare the results with the CPU.\n",
    "If the model has already been compiled, it won't recompile unless you delete the generated cache folder using the following cell."
   ]
  },
  {
   "cell_type": "code",
   "execution_count": 32,
   "metadata": {},
   "outputs": [
    {
     "name": "stdout",
     "output_type": "stream",
     "text": [
      "Directory deleted successfully. Starting Fresh.\n"
     ]
    }
   ],
   "source": [
    "# We want to make sure we compile everytime, otherwise the tools will use the cached version\n",
    "# Get the current working directory\n",
    "current_directory = os.getcwd()\n",
    "directory_path = os.path.join(current_directory,  r'cache\\tina_cache')\n",
    "cache_directory = os.path.join(current_directory,  r'cache')\n",
    "\n",
    "# Check if the directory exists and delete it if it does.\n",
    "if os.path.exists(directory_path):\n",
    "    shutil.rmtree(directory_path)\n",
    "    print(f\"Directory deleted successfully. Starting Fresh.\")\n",
    "else:\n",
    "    print(f\"Directory '{directory_path}' does not exist.\")"
   ]
  },
  {
   "cell_type": "markdown",
   "metadata": {},
   "source": [
    "#### Compile and run\n",
    "\n",
    "On the first run, the model will compile for the NPU before executing the inference. It's best to run the following cell again if you want to see better inference times."
   ]
  },
  {
   "cell_type": "code",
   "execution_count": 33,
   "metadata": {},
   "outputs": [],
   "source": [
    "install_dir = os.environ['RYZEN_AI_INSTALLATION_PATH']\n",
    "config_file_path = os.path.join(install_dir, 'voe-4.0-win_amd64', 'vaip_config.json') # Path to the NPU config file\n",
    "\n",
    "aie_options = onnxruntime.SessionOptions()\n",
    "\n",
    "aie_session = onnxruntime.InferenceSession(\n",
    "    model.SerializeToString(),\n",
    "    providers=['VitisAIExecutionProvider'],\n",
    "    sess_options=aie_options,\n",
    "    provider_options = [{'config_file': config_file_path,\n",
    "                         'cacheDir': cache_directory,\n",
    "                         'cacheKey': 'tina_cache'}]\n",
    ")\n",
    "\n"
   ]
  },
  {
   "cell_type": "code",
   "execution_count": 50,
   "metadata": {},
   "outputs": [],
   "source": [
    "# Run Inference\n",
    "for _ in range(20):\n",
    "    start = timer()\n",
    "    npu_results = aie_session.run(None, input_data)\n",
    "    npu_total = timer() - start"
   ]
  },
  {
   "cell_type": "markdown",
   "metadata": {},
   "source": [
    "Let's gather our results and see what we have"
   ]
  },
  {
   "cell_type": "code",
   "execution_count": 51,
   "metadata": {
    "scrolled": true
   },
   "outputs": [
    {
     "name": "stdout",
     "output_type": "stream",
     "text": [
      "CPU Execution Time: 0.06281259993556887\n",
      "NPU Execution Time: 0.02830040000844747\n"
     ]
    }
   ],
   "source": [
    "print(f\"CPU Execution Time: {cpu_total}\")\n",
    "print(f\"NPU Execution Time: {npu_total}\")"
   ]
  },
  {
   "cell_type": "code",
   "execution_count": 52,
   "metadata": {},
   "outputs": [
    {
     "name": "stdout",
     "output_type": "stream",
     "text": [
      "output shape: (100, 100)\n"
     ]
    },
    {
     "data": {
      "image/png": "[encoded data removed]",
      "text/plain": [
       "<Figure size 640x480 with 1 Axes>"
      ]
     },
     "metadata": {},
     "output_type": "display_data"
    }
   ],
   "source": [
    "from matplotlib import pyplot as plt\n",
    "\n",
    "output = np.array(npu_results).reshape(npix_l, npix_m)\n",
    "print(\"output shape:\", output.shape)\n",
    "# output = output.reshape(npix_l, npix_m).detach().numpy()\n",
    "plt.imshow(output, cmap='hot', interpolation='nearest')\n",
    "plt.show()"
   ]
  },
  {
   "cell_type": "markdown",
   "metadata": {},
   "source": [
    "**Note:** For a model this small in size, you likely won't see much of a performance gain when using the NPU versus the CPU. "
   ]
  },
  {
   "cell_type": "markdown",
   "metadata": {},
   "source": [
    "Let's take a look at running the model on the NPU lots of times so that we can see the NPU being utilized.\n",
    "To do this, make sure to have Task Manager opened in a window you can see when you run the next cell."
   ]
  },
  {
   "cell_type": "code",
   "execution_count": null,
   "metadata": {},
   "outputs": [],
   "source": [
    "iterations = 50 # edit this for more or less\n",
    "\n",
    "for i in range(iterations):\n",
    "    npu_results = aie_session.run(None, {'input': input_data})\n",
    "\n"
   ]
  },
  {
   "cell_type": "markdown",
   "metadata": {},
   "source": [
    "And there you have it. Your first model running on the NPU. We recommend trying a more complex model like ResNet50 or a custom model to compare performance and accuracy on the NPU.\n"
   ]
  }
 ],
 "metadata": {
  "kernelspec": {
   "display_name": "Python 3 (ipykernel)",
   "language": "python",
   "name": "python3"
  },
  "language_info": {
   "codemirror_mode": {
    "name": "ipython",
    "version": 3
   },
   "file_extension": ".py",
   "mimetype": "text/x-python",
   "name": "python",
   "nbconvert_exporter": "python",
   "pygments_lexer": "ipython3",
   "version": "3.10.17"
  }
 },
 "nbformat": 4,
 "nbformat_minor": 4
}
